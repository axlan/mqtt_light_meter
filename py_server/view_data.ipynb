{
 "metadata": {
  "language_info": {
   "codemirror_mode": {
    "name": "ipython",
    "version": 3
   },
   "file_extension": ".py",
   "mimetype": "text/x-python",
   "name": "python",
   "nbconvert_exporter": "python",
   "pygments_lexer": "ipython3",
   "version": "3.8.2-final"
  },
  "orig_nbformat": 2,
  "kernelspec": {
   "name": "python3",
   "display_name": "Python 3",
   "language": "python"
  }
 },
 "nbformat": 4,
 "nbformat_minor": 2,
 "cells": [
  {
   "cell_type": "code",
   "execution_count": null,
   "metadata": {},
   "outputs": [],
   "source": [
    "import numpy as np\n",
    "\n",
    "data_file = \"C:/Users/jdiamond/Documents/PlatformIO/Projects/light_mqtt/data.bin\"\n",
    "#data_file = \"C:/Users/jdiamond/Documents/PlatformIO/Projects/light_mqtt/kitchen_data.bin\"\n",
    "\n",
    "data = np.fromfile(data_file, np.uint16)\n",
    "\n",
    "T = 0.017\n",
    "\n",
    "print(len(data), np.max(data),np.min(data))\n",
    "\n",
    "\n"
   ]
  },
  {
   "cell_type": "code",
   "execution_count": null,
   "metadata": {},
   "outputs": [],
   "source": [
    "import plotly.graph_objects as go\n",
    "import plotly.express as px\n",
    "\n",
    "x = [T * i for i in range(len(data))]\n",
    "\n",
    "fig = px.line(x=x, y=data)\n",
    "#fig = px.scatter(df_disp, x=\"timestamp\", y=\"value\", color=\"name\")\n",
    "fig.show()"
   ]
  },
  {
   "cell_type": "code",
   "execution_count": null,
   "metadata": {},
   "outputs": [],
   "source": [
    "import plotly.graph_objects as go\n",
    "import plotly.express as px\n",
    "from scipy.ndimage.filters import uniform_filter1d\n",
    "\n",
    "x = [T * i for i in range(len(data))]\n",
    "y = uniform_filter1d(data, size=int(2/T))\n",
    "\n",
    "\n",
    "fig = px.line(x=x, y=y)\n",
    "#fig = px.scatter(df_disp, x=\"timestamp\", y=\"value\", color=\"name\")\n",
    "fig.show()"
   ]
  },
  {
   "cell_type": "code",
   "execution_count": null,
   "metadata": {},
   "outputs": [],
   "source": [
    "import plotly.graph_objects as go\n",
    "import plotly.express as px\n",
    "from scipy.ndimage.filters import uniform_filter1d\n",
    "\n",
    "window = 30\n",
    "\n",
    "x = [T * i / 60 for i in range(len(data))]\n",
    "y = []\n",
    "for i in range(window,len(x)):\n",
    "    y.append(min(data[i-window:i]))\n",
    "\n",
    "fig = px.line(x=x[window:], y=y)\n",
    "#fig = px.scatter(df_disp, x=\"timestamp\", y=\"value\", color=\"name\")\n",
    "fig.show()"
   ]
  },
  {
   "source": [
    "import numpy as np\n",
    "import matplotlib.pyplot as plt\n",
    "import scipy.fftpack\n",
    "\n",
    "# Number of samplepoints\n",
    "N = 1024\n",
    "\n",
    "\n",
    "# sample spacing\n",
    "x = x[:N]\n",
    "y = data[:N]\n",
    "yf = scipy.fftpack.fft(y)\n",
    "xf = np.linspace(0.0, 1.0/(2.0*T), int(N/2))\n",
    "\n",
    "yf[0] = 0\n",
    "\n",
    "fig, ax = plt.subplots()\n",
    "ax.plot(xf, 2.0/N * np.abs(yf[:N//2]))\n",
    "plt.show()"
   ],
   "cell_type": "code",
   "metadata": {},
   "execution_count": null,
   "outputs": []
  },
  {
   "cell_type": "code",
   "execution_count": null,
   "metadata": {},
   "outputs": [],
   "source": [
    "import numpy as np\n",
    "import matplotlib.pyplot as plt\n",
    "import scipy.fftpack\n",
    "\n",
    "# Number of samplepoints\n",
    "N = 1024\n",
    "freq = 100\n",
    "sample_freqs = [400, 300, 100, 31, 21]\n",
    "\n",
    "for sample_freq in sample_freqs:\n",
    "\n",
    "    # sample spacing\n",
    "    T = 1/sample_freq\n",
    "    x = np.linspace(0.0, N*T, N)\n",
    "    y = np.sin(freq * 2.0*np.pi*x)\n",
    "    yf = scipy.fftpack.fft(y)\n",
    "    xf = np.linspace(0.0, 1.0/(2.0*T), int(N/2))\n",
    "\n",
    "    yf[0] = 0\n",
    "\n",
    "    fig, ax = plt.subplots()\n",
    "    ax.plot(xf, 2.0/N * np.abs(yf[:N//2]))\n",
    "    plt.show()"
   ]
  }
 ]
}